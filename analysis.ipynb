{
 "cells": [
  {
   "cell_type": "markdown",
   "source": [
    "# Hello! Here you can find an analysis developer vacancies on Djinni."
   ],
   "metadata": {
    "collapsed": false
   }
  },
  {
   "cell_type": "markdown",
   "source": [
    "### 1. Start scraping vacancies from djinni.co with your skill and save the results to djinni.csv. Just put your skill to keyword=\"your skill\""
   ],
   "metadata": {
    "collapsed": false
   }
  },
  {
   "cell_type": "code",
   "execution_count": null,
   "outputs": [],
   "source": [
    "!cd djinni_scrape && scrapy crawl djinni_jobs -a keyword=Python"
   ],
   "metadata": {
    "collapsed": false
   }
  },
  {
   "cell_type": "code",
   "execution_count": null,
   "outputs": [],
   "source": [
    "import pandas as pd\n",
    "import matplotlib.pyplot as plt\n",
    "import re"
   ],
   "metadata": {
    "collapsed": false
   }
  },
  {
   "cell_type": "markdown",
   "source": [
    "### 2. Check data in djinni.csv"
   ],
   "metadata": {
    "collapsed": false
   }
  },
  {
   "cell_type": "code",
   "execution_count": null,
   "outputs": [],
   "source": [
    "df = pd.read_csv('djinni_scrape/djinni.csv', skiprows=[0])\n",
    "print(df)"
   ],
   "metadata": {
    "collapsed": false
   }
  },
  {
   "cell_type": "markdown",
   "source": [
    "### 3. Assign meaningful column names"
   ],
   "metadata": {
    "collapsed": false
   }
  },
  {
   "cell_type": "code",
   "execution_count": null,
   "outputs": [],
   "source": [
    "df.columns = ['Job title', 'Experience', 'Technologies', 'Views', 'Salary']"
   ],
   "metadata": {
    "collapsed": false
   }
  },
  {
   "cell_type": "markdown",
   "source": [
    "### 4. Create correlation matrix"
   ],
   "metadata": {
    "collapsed": false
   }
  },
  {
   "cell_type": "code",
   "execution_count": null,
   "outputs": [],
   "source": [
    "# Convert Experience and Views columns to numeric type\n",
    "df['Experience'] = pd.to_numeric(df['Experience'], errors='coerce')\n",
    "df['Views'] = pd.to_numeric(df['Views'], errors='coerce')\n",
    "\n",
    "# Subset the DataFrame to include only 'Experience', 'Views' columns\n",
    "subset_df = df[['Experience', 'Views']]\n",
    "\n",
    "# Calculate the correlation matrix\n",
    "correlation_matrix = subset_df.corr()\n",
    "\n",
    "# Display the correlation matrix\n",
    "print(correlation_matrix)"
   ],
   "metadata": {
    "collapsed": false
   }
  },
  {
   "cell_type": "markdown",
   "source": [
    "### 5. Calculate the maximum and minimum views for years of experience"
   ],
   "metadata": {
    "collapsed": false
   }
  },
  {
   "cell_type": "code",
   "execution_count": null,
   "outputs": [],
   "source": [
    "# Group the data by years of experience and calculate the maximum and minimum views\n",
    "experience_stats = df.groupby('Experience')['Views'].agg(['min', 'max'])\n",
    "\n",
    "# Reset the index to convert the grouped data into a DataFrame\n",
    "experience_stats = experience_stats.reset_index()\n",
    "\n",
    "# Create a bar plot\n",
    "plt.bar(experience_stats['Experience'], experience_stats['max'], label='Max Views')\n",
    "plt.bar(experience_stats['Experience'], experience_stats['min'], label='Min Views')\n",
    "plt.xlabel('Years of Experience')\n",
    "plt.ylabel('Views')\n",
    "plt.title('Max and Min Views by Years of Experience')\n",
    "plt.legend()\n",
    "plt.xticks(experience_stats['Experience'])  # Set x-axis tick values to be the years of experience\n",
    "\n",
    "# Add text labels with min and max views\n",
    "for i in range(len(experience_stats)):\n",
    "    plt.text(experience_stats['Experience'][i], experience_stats['max'][i], str(experience_stats['max'][i]), ha='center', va='bottom')\n",
    "    plt.text(experience_stats['Experience'][i], experience_stats['min'][i], str(experience_stats['min'][i]), ha='center', va='bottom')\n",
    "\n",
    "plt.show()"
   ],
   "metadata": {
    "collapsed": false
   }
  },
  {
   "cell_type": "markdown",
   "source": [
    "### 6. Check list of additional technologies for your skill"
   ],
   "metadata": {
    "collapsed": false
   }
  },
  {
   "cell_type": "code",
   "execution_count": null,
   "outputs": [],
   "source": [
    "# Extract the Technologies column\n",
    "technologies = df['Technologies']\n",
    "\n",
    "# Create a set to store unique technologies\n",
    "unique_technologies = set()\n",
    "\n",
    "# Iterate over the technologies column and split the string\n",
    "for tech_list in technologies.dropna():\n",
    "    techs = [tech.strip().lower() for tech in tech_list.split(',')]\n",
    "    unique_technologies.update(techs)\n",
    "\n",
    "# Print the unique technologies\n",
    "for tech in unique_technologies:\n",
    "    print(tech)"
   ],
   "metadata": {
    "collapsed": false
   }
  },
  {
   "cell_type": "markdown",
   "source": [
    "### 7. Check top 5 most popular technologies for your skill"
   ],
   "metadata": {
    "collapsed": false
   }
  },
  {
   "cell_type": "code",
   "execution_count": null,
   "outputs": [],
   "source": [
    "# Extract the Technologies column\n",
    "technologies = df['Technologies']\n",
    "\n",
    "# Create a list to store technology counts\n",
    "technology_counts = []\n",
    "\n",
    "# Iterate over the technologies column and count the occurrences of each technology\n",
    "for tech_list in technologies.dropna():\n",
    "    techs = [tech.strip().lower() for tech in tech_list.split(',')]\n",
    "    technology_counts.extend(techs)\n",
    "\n",
    "# Convert the list to a pandas Series\n",
    "technology_counts = pd.Series(technology_counts)\n",
    "\n",
    "# Get the top 5 most popular technologies\n",
    "top_technologies = technology_counts.value_counts().head(5)\n",
    "\n",
    "# Create labels and counts for the pie chart\n",
    "labels = top_technologies.index\n",
    "counts = top_technologies.values\n",
    "\n",
    "# Plot the pie chart\n",
    "plt.pie(counts, labels=labels, autopct='%1.1f%%')\n",
    "plt.title('Top 5 Most Popular Technologies')\n",
    "plt.axis('equal')\n",
    "plt.show()"
   ],
   "metadata": {
    "collapsed": false
   }
  },
  {
   "cell_type": "markdown",
   "source": [
    "### 8. Salary proposals"
   ],
   "metadata": {
    "collapsed": false
   }
  },
  {
   "cell_type": "code",
   "execution_count": null,
   "outputs": [],
   "source": [
    "# Filter out the rows where 'Salary' is not null, not equal to 'None', and not equal to {'Min': None, 'Max': None'}\n",
    "filtered_df = df[df['Salary'].notnull() & (df['Salary'] != \"None\") & (df['Salary'] != \"{'Min': None, 'Max': None}\")]\n",
    "\n",
    "# Count the occurrences of each salary value\n",
    "salary_counts = filtered_df['Salary'].value_counts()\n",
    "\n",
    "# Create a pie chart\n",
    "plt.figure(figsize=(8, 6))\n",
    "plt.pie(salary_counts, labels=salary_counts.index, autopct='%1.1f%%')\n",
    "\n",
    "# Set the title\n",
    "plt.title('Salary Values')\n",
    "\n",
    "# Show the plot\n",
    "plt.show()"
   ],
   "metadata": {
    "collapsed": false
   }
  },
  {
   "cell_type": "markdown",
   "source": [
    "### 9. Min and max salary proposals"
   ],
   "metadata": {
    "collapsed": false
   }
  },
  {
   "cell_type": "code",
   "execution_count": null,
   "outputs": [],
   "source": [
    "# Extract minimum and maximum values from 'Salary' column\n",
    "df['Min Salary'] = df['Salary'].apply(lambda x: int(re.search(r\"'Min': (\\d+)\", x).group(1)) if pd.notnull(x) and re.search(r\"'Min': (\\d+)\", x) else None)\n",
    "df['Max Salary'] = df['Salary'].apply(lambda x: int(re.search(r\"'Max': (\\d+)\", x).group(1)) if pd.notnull(x) and re.search(r\"'Max': (\\d+)\", x) else None)\n",
    "\n",
    "# Print the 'Min Salary' and 'Max Salary' columns\n",
    "print(df[['Min Salary', 'Max Salary']])"
   ],
   "metadata": {
    "collapsed": false
   }
  },
  {
   "cell_type": "markdown",
   "source": [
    "### 10. Min and max salaries with Experience"
   ],
   "metadata": {
    "collapsed": false
   }
  },
  {
   "cell_type": "code",
   "execution_count": null,
   "outputs": [],
   "source": [
    "# Group the data by 'Experience' and calculate the min and max salaries\n",
    "experience_stats = filtered_df.groupby('Experience')['Salary'].agg(['min', 'max']).reset_index()\n",
    "\n",
    "# Create the bar plot\n",
    "plt.figure(figsize=(8, 6))\n",
    "plt.bar(experience_stats['Experience'], experience_stats['max'], label='Max Salary')\n",
    "plt.bar(experience_stats['Experience'], experience_stats['min'], label='Min Salary')\n",
    "plt.xlabel('Years of Experience')\n",
    "plt.ylabel('Salary')\n",
    "plt.title('Max and Min Salary by Years of Experience')\n",
    "plt.legend()\n",
    "plt.xticks(experience_stats['Experience'])  # Set x-axis tick values to be the years of experience\n",
    "\n",
    "# Add text labels with min and max salaries\n",
    "for i in range(len(experience_stats)):\n",
    "    plt.text(experience_stats['Experience'][i], experience_stats['max'][i], str(experience_stats['max'][i]), ha='center', va='bottom')\n",
    "    plt.text(experience_stats['Experience'][i], experience_stats['min'][i], str(experience_stats['min'][i]), ha='center', va='bottom')\n",
    "\n",
    "# Show the bar plot\n",
    "plt.show()"
   ],
   "metadata": {
    "collapsed": false
   }
  }
 ],
 "metadata": {
  "kernelspec": {
   "display_name": "Python 3",
   "language": "python",
   "name": "python3"
  },
  "language_info": {
   "codemirror_mode": {
    "name": "ipython",
    "version": 2
   },
   "file_extension": ".py",
   "mimetype": "text/x-python",
   "name": "python",
   "nbconvert_exporter": "python",
   "pygments_lexer": "ipython2",
   "version": "2.7.6"
  }
 },
 "nbformat": 4,
 "nbformat_minor": 0
}
